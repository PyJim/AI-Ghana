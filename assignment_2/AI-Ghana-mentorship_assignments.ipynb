{
 "cells": [
  {
   "attachments": {},
   "cell_type": "markdown",
   "metadata": {},
   "source": [
    "## ASSIGNMENT 1"
   ]
  },
  {
   "attachments": {},
   "cell_type": "markdown",
   "metadata": {},
   "source": [
    "#### Problem 1"
   ]
  },
  {
   "cell_type": "code",
   "execution_count": 1,
   "metadata": {},
   "outputs": [],
   "source": [
    "def flatten_lists(list_of_lists):\n",
    "    \"\"\"summary\n",
    "\n",
    "    Args:\n",
    "        list_of_lists (_list_): a list containing sublists\n",
    "\n",
    "    Returns:\n",
    "        list: a sorted list of all sublists flattend\n",
    "    \"\"\"\n",
    "    return sorted([value for sublist in list_of_lists for value in sublist])\n"
   ]
  },
  {
   "attachments": {},
   "cell_type": "markdown",
   "metadata": {},
   "source": [
    "#### Problem 2"
   ]
  },
  {
   "cell_type": "code",
   "execution_count": 2,
   "metadata": {},
   "outputs": [],
   "source": [
    "def longest_word(line_of_text):\n",
    "    \"\"\"_summary_\n",
    "\n",
    "    Args:\n",
    "        line_of_text (str): a line of texts\n",
    "\n",
    "    Returns:\n",
    "        str: the longest word in the line of texts\n",
    "    \"\"\"\n",
    "    longest_word_length = 0\n",
    "    for text in line_of_text.split(\" \"):\n",
    "        if len(text)>longest_word_length:\n",
    "            longest_word = text\n",
    "    return longest_word"
   ]
  },
  {
   "attachments": {},
   "cell_type": "markdown",
   "metadata": {},
   "source": [
    "#### Problem 3"
   ]
  },
  {
   "cell_type": "code",
   "execution_count": 3,
   "metadata": {},
   "outputs": [],
   "source": [
    "def dictionarize(list_of_items):\n",
    "    \"\"\"summary\n",
    "\n",
    "    Args:\n",
    "        list_of_items (list): list of items\n",
    "    \n",
    "    Returns: dictionary with list items as keys and the number of items as values\n",
    "    \"\"\"\n",
    "    dictionary = {}\n",
    "    for item in list_of_items:\n",
    "        dictionary[item] = list_of_items.count(item)\n",
    "    return dictionary\n"
   ]
  },
  {
   "attachments": {},
   "cell_type": "markdown",
   "metadata": {},
   "source": [
    "## ASSIGNMENT 2"
   ]
  },
  {
   "attachments": {},
   "cell_type": "markdown",
   "metadata": {},
   "source": [
    "#### Question 1\n",
    "\n",
    "Objects are instances of a class."
   ]
  },
  {
   "attachments": {},
   "cell_type": "markdown",
   "metadata": {},
   "source": [
    "#### Question 2\n",
    "\n",
    "The purpose of the init method is to initiate the class attributes for an instance whenever it is created."
   ]
  },
  {
   "attachments": {},
   "cell_type": "markdown",
   "metadata": {},
   "source": [
    "#### Question 3\n",
    "\n",
    "State is what the class represents and behavior refers to the various methods that can be performed of an object of the class."
   ]
  },
  {
   "attachments": {},
   "cell_type": "markdown",
   "metadata": {},
   "source": [
    "#### Question 4\n",
    "\n",
    "Self in class definition refers to any instance of the class."
   ]
  },
  {
   "attachments": {},
   "cell_type": "markdown",
   "metadata": {},
   "source": [
    "#### Question 5"
   ]
  },
  {
   "cell_type": "code",
   "execution_count": 4,
   "metadata": {},
   "outputs": [],
   "source": [
    "class Rational:\n",
    "    \"\"\"This class represents a rational number. It has two attributes: the numerator and denominator of the rational number\n",
    "    \"\"\"\n",
    "    def __init__(self, numerator, denominator):\n",
    "        self.numerator = numerator\n",
    "        self.denominator = denominator\n",
    "        self.rational = self.numerator / self.denominator"
   ]
  },
  {
   "attachments": {},
   "cell_type": "markdown",
   "metadata": {},
   "source": [
    "#### Question 6"
   ]
  },
  {
   "cell_type": "code",
   "execution_count": 5,
   "metadata": {},
   "outputs": [],
   "source": [
    "class Rectangle:\n",
    "    \"\"\"This class represents a rectangle. It's attributes contain information about the cordinates of the lower left corner, the width, and also the height of the rectangle.\n",
    "    \"\"\"\n",
    "    def __init__(self, x, y, width, height):\n",
    "        self.x = x\n",
    "        self.y = y\n",
    "        self.width = width\n",
    "        self.height = height\n",
    "    \n",
    "    def area(self):\n",
    "        \"\"\"This method is used to get the area of a Rectangle class instance.\n",
    "\n",
    "        Returns:\n",
    "            float: Area of an instance of the Rectangle class\n",
    "        \"\"\"\n",
    "        return self.width * self.height\n"
   ]
  },
  {
   "attachments": {},
   "cell_type": "markdown",
   "metadata": {},
   "source": [
    "#### Question 7"
   ]
  },
  {
   "cell_type": "code",
   "execution_count": 6,
   "metadata": {},
   "outputs": [],
   "source": [
    "class BankAccount:\n",
    "    def __init__(self, account_name, initial_amount):\n",
    "        self.account_name = account_name\n",
    "        self.initial_amount = initial_amount\n",
    "        self.current_balance = self.initial_amount\n",
    "    \n",
    "    def Deposit(self, amount):\n",
    "        \"\"\"This function takes in an amount and adds it to the account balance.\n",
    "\n",
    "        Args:\n",
    "            amount (float): the amount of money to be deposited\n",
    "        \"\"\"\n",
    "        self.current_balance += amount\n",
    "    \n",
    "    def CachWithdrawal(self, amount):\n",
    "        \"\"\"This function takes in an amount and subtracts it from the account balance.\n",
    "\n",
    "        Args:\n",
    "            amount (float): the amount of money to be withdrawn\n",
    "        \"\"\"\n",
    "        self.current_balance -= amount\n",
    "    \n",
    "    def Balance(self):\n",
    "        \"\"\"This function returns the current balance of any instance of the BankAccount class.\n",
    "\n",
    "        Returns:\n",
    "            float: current balance\n",
    "        \"\"\"\n",
    "        return f'The balance of {self.account_name} is {self.current_balance} Euros.'"
   ]
  }
 ],
 "metadata": {
  "kernelspec": {
   "display_name": "Python 3",
   "language": "python",
   "name": "python3"
  },
  "language_info": {
   "codemirror_mode": {
    "name": "ipython",
    "version": 3
   },
   "file_extension": ".py",
   "mimetype": "text/x-python",
   "name": "python",
   "nbconvert_exporter": "python",
   "pygments_lexer": "ipython3",
   "version": "3.11.1"
  },
  "orig_nbformat": 4,
  "vscode": {
   "interpreter": {
    "hash": "a180a6b8c638e6df9c07186486670b772209afe11aabc5cd57d3209ec4295ad1"
   }
  }
 },
 "nbformat": 4,
 "nbformat_minor": 2
}
